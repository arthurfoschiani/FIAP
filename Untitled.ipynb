{
 "cells": [
  {
   "cell_type": "code",
   "execution_count": 1,
   "id": "34b4aadd",
   "metadata": {},
   "outputs": [],
   "source": [
    "import pandas as pd"
   ]
  },
  {
   "cell_type": "code",
   "execution_count": 2,
   "id": "22782e20",
   "metadata": {},
   "outputs": [],
   "source": [
    "original_dict = pd.read_excel('Pasta1.xlsx').to_dict()"
   ]
  },
  {
   "cell_type": "code",
   "execution_count": 3,
   "id": "43fd7372",
   "metadata": {},
   "outputs": [
    {
     "name": "stdout",
     "output_type": "stream",
     "text": [
      "{'2020 (R$ em milhões)': {'Receita bruta (R$)': '1936,00', 'Receita líquida (R$)': '1780,00', 'Lucro bruto (R$)': '800,00', 'Margem bruta (%)': '0,40', 'EBITDA': '181,00', 'Margem EBITDA': '0,10', 'Lucro Líquido': '44,00', 'Margem Líquida': '0,03', 'Dívida Líquida': '194,30', 'Receita Líquida Total': '1780,00', 'Número de lojas': '61,00'}, '2021 (R$ em milhões)': {'Receita bruta (R$)': '2197,00', 'Receita líquida (R$)': '2017,00', 'Lucro bruto (R$)': '717,00', 'Margem bruta (%)': '0,40', 'EBITDA': '188,00', 'Margem EBITDA': '0,09', 'Lucro Líquido': '21,00', 'Margem Líquida': '0,01', 'Dívida Líquida': '376,70', 'Receita Líquida Total': '2017,00', 'Número de lojas': '72,00'}, 'Variação': {'Receita bruta (R$)': '0,13', 'Receita líquida (R$)': '0,13', 'Lucro bruto (R$)': '0,12', 'Margem bruta (%)': '0,04', 'EBITDA': '0,04', 'Margem EBITDA': '0,04', 'Lucro Líquido': '-0,53', 'Margem Líquida': '0,04', 'Dívida Líquida': '0,04', 'Receita Líquida Total': '0,13', 'Número de lojas': '0,18'}}\n"
     ]
    }
   ],
   "source": [
    "# Percorrer as chaves do dicionário original, exceto a primeira (que contém apenas números)\n",
    "for key in list(original_dict.keys())[1:]:\n",
    "    # Criar um novo dicionário para armazenar os valores formatados para esta chave\n",
    "    nested_dict = {}\n",
    "    # Percorrer as chaves e valores do dicionário aninhado correspondente a esta chave\n",
    "    for sub_key, sub_value in original_dict[key].items():\n",
    "        # Formatar o valor como uma string com duas casas decimais, usando o método .format()\n",
    "        # Se o valor for uma string, mantém a string\n",
    "        if isinstance(sub_value, str):\n",
    "            nested_dict[original_dict['#'][sub_key]] = sub_value\n",
    "        else:\n",
    "            nested_dict[original_dict['#'][sub_key]] = \"{:.2f}\".format(sub_value).replace(\".\", \",\")\n",
    "    # Substituir o dicionário aninhado formatado pelo dicionário original\n",
    "    original_dict[key] = nested_dict\n",
    "    \n",
    "original_dict.pop('#')\n",
    "\n",
    "print(original_dict)"
   ]
  },
  {
   "cell_type": "code",
   "execution_count": null,
   "id": "29847b4a",
   "metadata": {},
   "outputs": [],
   "source": []
  }
 ],
 "metadata": {
  "kernelspec": {
   "display_name": "Python 3 (ipykernel)",
   "language": "python",
   "name": "python3"
  },
  "language_info": {
   "codemirror_mode": {
    "name": "ipython",
    "version": 3
   },
   "file_extension": ".py",
   "mimetype": "text/x-python",
   "name": "python",
   "nbconvert_exporter": "python",
   "pygments_lexer": "ipython3",
   "version": "3.9.13"
  }
 },
 "nbformat": 4,
 "nbformat_minor": 5
}

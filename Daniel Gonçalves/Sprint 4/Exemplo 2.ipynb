{
 "cells": [
  {
   "cell_type": "markdown",
   "id": "6659e3fd",
   "metadata": {},
   "source": [
    "## Carregando base dados"
   ]
  },
  {
   "cell_type": "code",
   "execution_count": null,
   "id": "6ba07c66",
   "metadata": {},
   "outputs": [],
   "source": [
    "import pandas as pd"
   ]
  },
  {
   "cell_type": "code",
   "execution_count": null,
   "id": "23588b17",
   "metadata": {},
   "outputs": [],
   "source": [
    "data = pd.read_csv('IPODataFull.csv', sep=',', encoding='latin-1')"
   ]
  },
  {
   "cell_type": "markdown",
   "id": "6174b717",
   "metadata": {},
   "source": [
    "## Selecionando as colunas necessárias para a análise"
   ]
  },
  {
   "cell_type": "code",
   "execution_count": null,
   "id": "ef54c42e",
   "metadata": {},
   "outputs": [],
   "source": [
    "data = data[['DaysBetterThanSP','daysProfit','Year','Month','Day','dayOfWeek','closeDay0', 'Profitable', 'Safe']]\n",
    "data = data.rename(columns={\n",
    "#     'Symbol': 'Ticker',\n",
    "    'DaysBetterThanSP': 'DiasMelhoresQueSP',\n",
    "    'daysProfit': 'DiasDeLucro',\n",
    "    'Year': 'Ano',\n",
    "    'Month': 'Mês',\n",
    "    'Day': 'Dia',\n",
    "    'dayOfWeek': 'DiaDaSemana',\n",
    "    'closeDay0': 'FechamentoDia0',\n",
    "    'Profitable': 'Lucrativo',\n",
    "    'Safe': 'Seguro'\n",
    "})\n",
    "display(data)"
   ]
  },
  {
   "cell_type": "code",
   "execution_count": null,
   "id": "b4132483",
   "metadata": {},
   "outputs": [],
   "source": [
    "data.info()"
   ]
  },
  {
   "cell_type": "markdown",
   "id": "32f6e232",
   "metadata": {},
   "source": [
    "## Visualizando o histograma das colunas para análise"
   ]
  },
  {
   "cell_type": "code",
   "execution_count": null,
   "id": "56897919",
   "metadata": {},
   "outputs": [],
   "source": [
    "import matplotlib.pyplot as plt  \n",
    "import seaborn as sns"
   ]
  },
  {
   "cell_type": "code",
   "execution_count": null,
   "id": "d486de06",
   "metadata": {},
   "outputs": [],
   "source": [
    "dados = data.drop(columns = ['Lucrativo', 'Seguro'])\n",
    "dados.hist(figsize=(15,10))"
   ]
  },
  {
   "cell_type": "code",
   "execution_count": null,
   "id": "2039082b",
   "metadata": {},
   "outputs": [],
   "source": [
    "print('De 3761 empresas, {} foram consideradas lucrativas investir'.format(list(data['Lucrativo']).count(1)))\n",
    "print('De 3761 empresas, {} empresas foram consideradas seguro investir'.format(list(data['Seguro']).count(1)))"
   ]
  },
  {
   "cell_type": "markdown",
   "id": "48d30b9d",
   "metadata": {},
   "source": [
    "### Vamos gerar algumas estatísticas e visualizações exploratórias dos dados:"
   ]
  },
  {
   "cell_type": "code",
   "execution_count": null,
   "id": "92e924e5",
   "metadata": {},
   "outputs": [],
   "source": [
    "sns.pairplot(data, hue='Lucrativo')\n",
    "plt.show()\n",
    "display(data.groupby('Lucrativo').mean())\n",
    "display(data.groupby('Lucrativo').std())"
   ]
  },
  {
   "cell_type": "code",
   "execution_count": null,
   "id": "6a668dac",
   "metadata": {},
   "outputs": [],
   "source": [
    "sns.pairplot(data, hue='Seguro')\n",
    "plt.show()\n",
    "display(data.groupby('Seguro').mean())\n",
    "display(data.groupby('Seguro').std())"
   ]
  },
  {
   "cell_type": "code",
   "execution_count": null,
   "id": "98c74814",
   "metadata": {},
   "outputs": [],
   "source": [
    "from sklearn.model_selection import train_test_split"
   ]
  },
  {
   "cell_type": "code",
   "execution_count": null,
   "id": "5d2c805a",
   "metadata": {},
   "outputs": [],
   "source": [
    "# Excluindo as colunas de resposta\n",
    "x = data.drop(columns = ['Lucrativo', 'Seguro'])"
   ]
  },
  {
   "cell_type": "markdown",
   "id": "aab98163",
   "metadata": {},
   "source": [
    "## Predição das coluna \"Lucrativo\""
   ]
  },
  {
   "cell_type": "markdown",
   "id": "4c9bd116",
   "metadata": {},
   "source": [
    "### Dividindo conjunto de treinamento e conjunto de teste"
   ]
  },
  {
   "cell_type": "code",
   "execution_count": null,
   "id": "00f28047",
   "metadata": {},
   "outputs": [],
   "source": [
    "y = data['Lucrativo'] # Classe alvo\n",
    "\n",
    "# Dividindo conjunto de treinamento e conjunto de teste\n",
    "x_train, x_test, y_train, y_test = train_test_split(x, y, test_size = 0.20, random_state = 8)"
   ]
  },
  {
   "cell_type": "markdown",
   "id": "2e65ecd8",
   "metadata": {},
   "source": [
    "###  Transformar dados"
   ]
  },
  {
   "cell_type": "code",
   "execution_count": null,
   "id": "4cae5e8e",
   "metadata": {},
   "outputs": [],
   "source": [
    "from sklearn.preprocessing import StandardScaler, MinMaxScaler"
   ]
  },
  {
   "cell_type": "code",
   "execution_count": null,
   "id": "03c612eb",
   "metadata": {},
   "outputs": [],
   "source": [
    "# Instanciando o Escalonador\n",
    "# scaler = StandardScaler()\n",
    "scaler = MinMaxScaler()\n",
    "\n",
    "# Treinando o escalonador\n",
    "scaler.fit(x_train)\n",
    "\n",
    "# Usando o escalonador treinado para transformar os dados\n",
    "x_train_scaled = scaler.transform(x_train)\n",
    "x_test_scaled = scaler.transform(x_test)"
   ]
  },
  {
   "cell_type": "markdown",
   "id": "46477831",
   "metadata": {},
   "source": [
    "### Treinar o algoritmo com diferentes modelos de predição"
   ]
  },
  {
   "cell_type": "code",
   "execution_count": null,
   "id": "4e79631e",
   "metadata": {},
   "outputs": [],
   "source": [
    "from sklearn.metrics import confusion_matrix, ConfusionMatrixDisplay\n",
    "from sklearn.metrics import f1_score, accuracy_score, precision_score, recall_score, classification_report"
   ]
  },
  {
   "cell_type": "markdown",
   "id": "8290e4bb",
   "metadata": {},
   "source": [
    "#### Classificador Bayesianos"
   ]
  },
  {
   "cell_type": "code",
   "execution_count": null,
   "id": "2b9488a9",
   "metadata": {},
   "outputs": [],
   "source": [
    "# Naive Bayes Gaussiano\n",
    "from sklearn.naive_bayes import GaussianNB\n",
    "\n",
    "# Passo 4 - Treinar o Classificador\n",
    "gnb = GaussianNB()  # Criamos o objeto do classificador (não mudamos nenhum hiperpârametro)\n",
    "gnb.fit(x_train_scaled, y_train) # Treinamos o classificador passando apenas o conjunto de dados de treinamento \n",
    "\n",
    "# Passo 5 - Testar o Classificador\n",
    "y_predicoes = gnb.predict(x_test_scaled) \n",
    "\n",
    "# Metricas de precisão, revocação, f1-score e acurácia.\n",
    "print(classification_report(y_test, y_predicoes))\n",
    "\n",
    "matriz_confusao = confusion_matrix(y_true = y_test,\n",
    "                                   y_pred = y_predicoes)\n",
    "\n",
    "figure = plt.figure(figsize=(15, 5))\n",
    "disp = ConfusionMatrixDisplay(confusion_matrix = matriz_confusao,\n",
    "                             display_labels = ['Não lucrativo','lucrativo'])\n",
    "disp.plot(values_format='d') "
   ]
  },
  {
   "cell_type": "markdown",
   "id": "eb81d053",
   "metadata": {},
   "source": [
    "#### Classificador KNN"
   ]
  },
  {
   "cell_type": "code",
   "execution_count": null,
   "id": "2ef055d8",
   "metadata": {},
   "outputs": [],
   "source": [
    "from sklearn.neighbors import KNeighborsClassifier\n",
    "\n",
    "# Treinar o Classificador\n",
    "knn = KNeighborsClassifier() # Criando classificador\n",
    "knn.fit(x_train_scaled, y_train) # Treinamos o classificador passando apenas o conjunto de dados de treinamento \n",
    "\n",
    "# Testar o Classificador\n",
    "y_predicoes = knn.predict(x_test_scaled) \n",
    "\n",
    "print(classification_report(y_test, y_predicoes))\n",
    "\n",
    "# Criando matriz de confusão para comparar o valor da predição com o real valor\n",
    "matriz_confusao = confusion_matrix(y_true = y_test,\n",
    "                                   y_pred = y_predicoes)\n",
    "\n",
    "figure = plt.figure(figsize=(15, 5))\n",
    "disp = ConfusionMatrixDisplay(confusion_matrix = matriz_confusao,\n",
    "                             display_labels = ['Não lucrativo','lucrativo'])\n",
    "disp.plot(values_format='d') "
   ]
  },
  {
   "cell_type": "markdown",
   "id": "8f2dc60e",
   "metadata": {},
   "source": [
    "#### Árvore de decisão"
   ]
  },
  {
   "cell_type": "code",
   "execution_count": null,
   "id": "77a3d507",
   "metadata": {},
   "outputs": [],
   "source": [
    "from sklearn.tree import DecisionTreeClassifier\n",
    "\n",
    "# Treinar o Classificador\n",
    "dtree = DecisionTreeClassifier() # Criando classificador\n",
    "dtree.fit(x_train_scaled, y_train) # Treinamos o classificador passando apenas o conjunto de dados de treinamento \n",
    "\n",
    "# Testar o Classificador\n",
    "y_predicoes = dtree.predict(x_test_scaled) \n",
    "\n",
    "print(classification_report(y_test, y_predicoes))\n",
    "\n",
    "# Criando matriz de confusão para comparar o valor da predição com o real valor\n",
    "matriz_confusao = confusion_matrix(y_true = y_test,\n",
    "                                   y_pred = y_predicoes)\n",
    "\n",
    "figure = plt.figure(figsize=(15, 5))\n",
    "disp = ConfusionMatrixDisplay(confusion_matrix = matriz_confusao,\n",
    "                             display_labels = ['Não lucrativo','lucrativo'])\n",
    "disp.plot(values_format='d') "
   ]
  },
  {
   "cell_type": "markdown",
   "id": "a88e1cff",
   "metadata": {},
   "source": [
    "#### Random Forest"
   ]
  },
  {
   "cell_type": "code",
   "execution_count": null,
   "id": "9755b230",
   "metadata": {},
   "outputs": [],
   "source": [
    "from sklearn.ensemble import RandomForestClassifier\n",
    "\n",
    "# Treinar o Classificador\n",
    "rf = RandomForestClassifier(random_state=42) # Criando classificador (hiperparametro de seed)\n",
    "rf.fit(x_train_scaled, y_train) # Treinamos o classificador passando apenas o conjunto de dados de treinamento \n",
    "\n",
    "# Testar o Classificador\n",
    "y_predicoes = rf.predict(x_test_scaled) \n",
    "\n",
    "print(classification_report(y_test, y_predicoes))\n",
    "\n",
    "# Criando matriz de confusão para comparar o valor da predição com o real valor\n",
    "matriz_confusao = confusion_matrix(y_true = y_test,\n",
    "                                   y_pred = y_predicoes)\n",
    "\n",
    "figure = plt.figure(figsize=(15, 5))\n",
    "disp = ConfusionMatrixDisplay(confusion_matrix = matriz_confusao,\n",
    "                             display_labels = ['Não lucrativo','lucrativo'])\n",
    "disp.plot(values_format='d') "
   ]
  },
  {
   "cell_type": "markdown",
   "id": "56163607",
   "metadata": {},
   "source": [
    "#### Máquina de vetor suporte (SVM)"
   ]
  },
  {
   "cell_type": "code",
   "execution_count": null,
   "id": "d99afe89",
   "metadata": {},
   "outputs": [],
   "source": [
    "from sklearn.svm import SVC\n",
    "\n",
    "# Treinar o Classificador\n",
    "svm = SVC() # Criando classificador\n",
    "svm.fit(x_train_scaled, y_train) # Treinamos o classificador passando apenas o conjunto de dados de treinamento \n",
    "\n",
    "# Testar o Classificador\n",
    "y_predicoes = svm.predict(x_test_scaled) \n",
    "\n",
    "print(classification_report(y_test, y_predicoes))\n",
    "\n",
    "# Criando matriz de confusão para comparar o valor da predição com o real valor\n",
    "matriz_confusao = confusion_matrix(y_true = y_test,\n",
    "                                   y_pred = y_predicoes)\n",
    "\n",
    "figure = plt.figure(figsize=(15, 5))\n",
    "disp = ConfusionMatrixDisplay(confusion_matrix = matriz_confusao,\n",
    "                             display_labels = ['Não lucrativo','lucrativo'])\n",
    "disp.plot(values_format='d') "
   ]
  },
  {
   "cell_type": "markdown",
   "id": "edfd7a13",
   "metadata": {},
   "source": [
    "#### Classificador por regressão logística"
   ]
  },
  {
   "cell_type": "code",
   "execution_count": null,
   "id": "1a0c1905",
   "metadata": {
    "scrolled": false
   },
   "outputs": [],
   "source": [
    "\n",
    "from sklearn.linear_model import LogisticRegression\n",
    "\n",
    "# Treinar o Classificador\n",
    "logreg = LogisticRegression() # Criando classificador\n",
    "logreg.fit(x_train_scaled, y_train) # Treinamos o classificador passando apenas o conjunto de dados de treinamento \n",
    "\n",
    "# Testar o Classificador\n",
    "y_predicoes = logreg.predict(x_test_scaled) \n",
    "\n",
    "print(classification_report(y_test, y_predicoes))\n",
    "\n",
    "# Criando matriz de confusão para comparar o valor da predição com o real valor\n",
    "matriz_confusao = confusion_matrix(y_true = y_test,\n",
    "                                   y_pred = y_predicoes)\n",
    "\n",
    "figure = plt.figure(figsize=(15, 5))\n",
    "disp = ConfusionMatrixDisplay(confusion_matrix = matriz_confusao,\n",
    "                             display_labels = ['Não lucrativo','lucrativo'])\n",
    "disp.plot(values_format='d') "
   ]
  },
  {
   "cell_type": "markdown",
   "id": "aa8e58b6",
   "metadata": {},
   "source": [
    "## Predição das coluna \"Seguro\""
   ]
  },
  {
   "cell_type": "markdown",
   "id": "499df969",
   "metadata": {},
   "source": [
    "### Dividindo conjunto de treinamento e conjunto de teste"
   ]
  },
  {
   "cell_type": "code",
   "execution_count": null,
   "id": "8405f2a1",
   "metadata": {},
   "outputs": [],
   "source": [
    "y = data['Seguro'] # Classe alvo\n",
    "\n",
    "# Dividindo conjunto de treinamento e conjunto de teste\n",
    "x_train, x_test, y_train, y_test = train_test_split(x, y, test_size = 0.20, random_state = 8)"
   ]
  },
  {
   "cell_type": "markdown",
   "id": "7af38191",
   "metadata": {},
   "source": [
    "###  Transformar dados"
   ]
  },
  {
   "cell_type": "code",
   "execution_count": null,
   "id": "4f4a4a2f",
   "metadata": {},
   "outputs": [],
   "source": [
    "from sklearn.preprocessing import StandardScaler, MinMaxScaler"
   ]
  },
  {
   "cell_type": "code",
   "execution_count": null,
   "id": "a258cdae",
   "metadata": {},
   "outputs": [],
   "source": [
    "# Instanciando o Escalonador\n",
    "# scaler = StandardScaler()\n",
    "scaler = MinMaxScaler()\n",
    "\n",
    "# Treinando o escalonador\n",
    "scaler.fit(x_train)\n",
    "\n",
    "# Usando o escalonador treinado para transformar os dados\n",
    "x_train_scaled = scaler.transform(x_train)\n",
    "x_test_scaled = scaler.transform(x_test)"
   ]
  },
  {
   "cell_type": "markdown",
   "id": "1e068951",
   "metadata": {},
   "source": [
    "### Treinar o algoritmo com diferentes modelos de predição"
   ]
  },
  {
   "cell_type": "code",
   "execution_count": null,
   "id": "74cd5a44",
   "metadata": {},
   "outputs": [],
   "source": [
    "from sklearn.metrics import confusion_matrix, ConfusionMatrixDisplay\n",
    "from sklearn.metrics import f1_score, accuracy_score, precision_score, recall_score, classification_report"
   ]
  },
  {
   "cell_type": "markdown",
   "id": "c557a701",
   "metadata": {},
   "source": [
    "#### Classificador Bayesianos"
   ]
  },
  {
   "cell_type": "code",
   "execution_count": null,
   "id": "40bee201",
   "metadata": {},
   "outputs": [],
   "source": [
    "# Naive Bayes Gaussiano\n",
    "from sklearn.naive_bayes import GaussianNB\n",
    "\n",
    "# Passo 4 - Treinar o Classificador\n",
    "gnb = GaussianNB()  # Criamos o objeto do classificador (não mudamos nenhum hiperpârametro)\n",
    "gnb.fit(x_train_scaled, y_train) # Treinamos o classificador passando apenas o conjunto de dados de treinamento \n",
    "\n",
    "# Passo 5 - Testar o Classificador\n",
    "y_predicoes = gnb.predict(x_test_scaled) \n",
    "\n",
    "# Metricas de precisão, revocação, f1-score e acurácia.\n",
    "print(classification_report(y_test, y_predicoes))\n",
    "\n",
    "matriz_confusao = confusion_matrix(y_true = y_test,\n",
    "                                   y_pred = y_predicoes)\n",
    "\n",
    "figure = plt.figure(figsize=(15, 5))\n",
    "disp = ConfusionMatrixDisplay(confusion_matrix = matriz_confusao,\n",
    "                             display_labels = ['Não lucrativo','lucrativo'])\n",
    "disp.plot(values_format='d') "
   ]
  },
  {
   "cell_type": "markdown",
   "id": "b0a2b180",
   "metadata": {},
   "source": [
    "#### Classificador KNN"
   ]
  },
  {
   "cell_type": "code",
   "execution_count": null,
   "id": "5fc876be",
   "metadata": {},
   "outputs": [],
   "source": [
    "from sklearn.neighbors import KNeighborsClassifier\n",
    "\n",
    "# Treinar o Classificador\n",
    "knn = KNeighborsClassifier() # Criando classificador\n",
    "knn.fit(x_train_scaled, y_train) # Treinamos o classificador passando apenas o conjunto de dados de treinamento \n",
    "\n",
    "# Testar o Classificador\n",
    "y_predicoes = knn.predict(x_test_scaled) \n",
    "\n",
    "print(classification_report(y_test, y_predicoes))\n",
    "\n",
    "# Criando matriz de confusão para comparar o valor da predição com o real valor\n",
    "matriz_confusao = confusion_matrix(y_true = y_test,\n",
    "                                   y_pred = y_predicoes)\n",
    "\n",
    "figure = plt.figure(figsize=(15, 5))\n",
    "disp = ConfusionMatrixDisplay(confusion_matrix = matriz_confusao,\n",
    "                             display_labels = ['Não lucrativo','lucrativo'])\n",
    "disp.plot(values_format='d') "
   ]
  },
  {
   "cell_type": "markdown",
   "id": "70f160b4",
   "metadata": {},
   "source": [
    "#### Árvore de decisão"
   ]
  },
  {
   "cell_type": "code",
   "execution_count": null,
   "id": "70e9b90f",
   "metadata": {},
   "outputs": [],
   "source": [
    "from sklearn.tree import DecisionTreeClassifier\n",
    "\n",
    "# Treinar o Classificador\n",
    "dtree = DecisionTreeClassifier() # Criando classificador\n",
    "dtree.fit(x_train_scaled, y_train) # Treinamos o classificador passando apenas o conjunto de dados de treinamento \n",
    "\n",
    "# Testar o Classificador\n",
    "y_predicoes = dtree.predict(x_test_scaled) \n",
    "\n",
    "print(classification_report(y_test, y_predicoes))\n",
    "\n",
    "# Criando matriz de confusão para comparar o valor da predição com o real valor\n",
    "matriz_confusao = confusion_matrix(y_true = y_test,\n",
    "                                   y_pred = y_predicoes)\n",
    "\n",
    "figure = plt.figure(figsize=(15, 5))\n",
    "disp = ConfusionMatrixDisplay(confusion_matrix = matriz_confusao,\n",
    "                             display_labels = ['Não lucrativo','lucrativo'])\n",
    "disp.plot(values_format='d') "
   ]
  },
  {
   "cell_type": "markdown",
   "id": "844f2806",
   "metadata": {},
   "source": [
    "#### Random Forest"
   ]
  },
  {
   "cell_type": "code",
   "execution_count": null,
   "id": "010f2585",
   "metadata": {},
   "outputs": [],
   "source": [
    "from sklearn.ensemble import RandomForestClassifier\n",
    "\n",
    "# Treinar o Classificador\n",
    "rf = RandomForestClassifier(random_state=42) # Criando classificador (hiperparametro de seed)\n",
    "rf.fit(x_train_scaled, y_train) # Treinamos o classificador passando apenas o conjunto de dados de treinamento \n",
    "\n",
    "# Testar o Classificador\n",
    "y_predicoes = rf.predict(x_test_scaled) \n",
    "\n",
    "print(classification_report(y_test, y_predicoes))\n",
    "\n",
    "# Criando matriz de confusão para comparar o valor da predição com o real valor\n",
    "matriz_confusao = confusion_matrix(y_true = y_test,\n",
    "                                   y_pred = y_predicoes)\n",
    "\n",
    "figure = plt.figure(figsize=(15, 5))\n",
    "disp = ConfusionMatrixDisplay(confusion_matrix = matriz_confusao,\n",
    "                             display_labels = ['Não lucrativo','lucrativo'])\n",
    "disp.plot(values_format='d') "
   ]
  },
  {
   "cell_type": "markdown",
   "id": "a2d18bce",
   "metadata": {},
   "source": [
    "#### Máquina de vetor suporte (SVM)"
   ]
  },
  {
   "cell_type": "code",
   "execution_count": null,
   "id": "efcd415c",
   "metadata": {},
   "outputs": [],
   "source": [
    "from sklearn.svm import SVC\n",
    "\n",
    "# Treinar o Classificador\n",
    "svm = SVC() # Criando classificador\n",
    "svm.fit(x_train_scaled, y_train) # Treinamos o classificador passando apenas o conjunto de dados de treinamento \n",
    "\n",
    "# Testar o Classificador\n",
    "y_predicoes = svm.predict(x_test_scaled) \n",
    "\n",
    "print(classification_report(y_test, y_predicoes))\n",
    "\n",
    "# Criando matriz de confusão para comparar o valor da predição com o real valor\n",
    "matriz_confusao = confusion_matrix(y_true = y_test,\n",
    "                                   y_pred = y_predicoes)\n",
    "\n",
    "figure = plt.figure(figsize=(15, 5))\n",
    "disp = ConfusionMatrixDisplay(confusion_matrix = matriz_confusao,\n",
    "                             display_labels = ['Não lucrativo','lucrativo'])\n",
    "disp.plot(values_format='d') "
   ]
  },
  {
   "cell_type": "markdown",
   "id": "fa1f6d9c",
   "metadata": {},
   "source": [
    "#### Classificador por regressão logística"
   ]
  },
  {
   "cell_type": "code",
   "execution_count": null,
   "id": "d0a378f9",
   "metadata": {
    "scrolled": false
   },
   "outputs": [],
   "source": [
    "\n",
    "from sklearn.linear_model import LogisticRegression\n",
    "\n",
    "# Treinar o Classificador\n",
    "logreg = LogisticRegression() # Criando classificador\n",
    "logreg.fit(x_train_scaled, y_train) # Treinamos o classificador passando apenas o conjunto de dados de treinamento \n",
    "\n",
    "# Testar o Classificador\n",
    "y_predicoes = logreg.predict(x_test_scaled) \n",
    "\n",
    "print(classification_report(y_test, y_predicoes))\n",
    "\n",
    "# Criando matriz de confusão para comparar o valor da predição com o real valor\n",
    "matriz_confusao = confusion_matrix(y_true = y_test,\n",
    "                                   y_pred = y_predicoes)\n",
    "\n",
    "figure = plt.figure(figsize=(15, 5))\n",
    "disp = ConfusionMatrixDisplay(confusion_matrix = matriz_confusao,\n",
    "                             display_labels = ['Não lucrativo','lucrativo'])\n",
    "disp.plot(values_format='d') "
   ]
  },
  {
   "cell_type": "code",
   "execution_count": null,
   "id": "aaa347bf",
   "metadata": {},
   "outputs": [],
   "source": []
  }
 ],
 "metadata": {
  "kernelspec": {
   "display_name": "Python 3 (ipykernel)",
   "language": "python",
   "name": "python3"
  },
  "language_info": {
   "codemirror_mode": {
    "name": "ipython",
    "version": 3
   },
   "file_extension": ".py",
   "mimetype": "text/x-python",
   "name": "python",
   "nbconvert_exporter": "python",
   "pygments_lexer": "ipython3",
   "version": "3.9.13"
  }
 },
 "nbformat": 4,
 "nbformat_minor": 5
}

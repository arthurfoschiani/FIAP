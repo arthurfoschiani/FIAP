{
 "cells": [
  {
   "cell_type": "markdown",
   "metadata": {},
   "source": [
    "# CP4 - Representação de Conhecimento e Ciência de Dados \n",
    "\n",
    "### Instruções\n",
    "\n",
    "Leia atentamente as instruções.\n",
    "\n",
    "1) O trabalho deve ser realizado em grupo de até 5 pessoas. Não precisa ser o mesmo grupo do Challenge; \n",
    "\n",
    "2) Você deverá submeter este arquivo Jupyter Notebook com as respostas nos campos indicados. Caso ache necessário, crie células markdown para comentar suas respostas e apontamentos;\n",
    "\n",
    "3) Apenas um aluno submeterá no Teams. Mude o nome do arquivo para **CP4-turma-NomeSobrenome.ipynb** onde **turma** deve ser trocado pela turma do grupo (H,A,F,G) e o NomeSobrenome trocado pelo nome e sobrenome do aluno que submeter o arquivo;\n",
    "\n",
    "4) A entrega deverá ser feita na respectiva tarefa no Microsoft Teams até a data indicada;\n",
    "\n",
    "5) As pontuações das questões estão marcadas em cada uma;\n",
    "\n",
    "6) Você pode usar códigos prontos, mas não copiar dos outros grupos. Lembre-se que dificilmente duas pessoas pensam exatamente nos mesmos nomes de variáveis e nas mesmas frases de comentários. <font color='red'>Se forem pegos dois arquivos iguais ou extremamente semelhantes, ambos serão deconsiderados e a nota será zerada para os dois grupos </font>;\n",
    "\n",
    "7) Dúvidas, pergunte ao professor. Não deixe para perguntar no final de semana da entrega!"
   ]
  },
  {
   "cell_type": "markdown",
   "metadata": {},
   "source": [
    "### Insira nome e RM dos membros do grupo aqui\n",
    "\n",
    "- ALÍCIA VITÓRIA GUIRADELO DA SILVA – 96960 \n",
    "\n",
    "- ANA CAROLINA DANTAS PRADO – 96997 \n",
    "\n",
    "- ARTHUR FOSCHIANI DE SOUZA – 96525\n",
    "\n",
    "- LARAH RANGEL FELICIANO CORREA – 96384 "
   ]
  },
  {
   "cell_type": "markdown",
   "metadata": {},
   "source": [
    "-----------------------------------\n",
    "# Questão 1 - Sintetizador de Voz  <font color='red'>(4 pontos)</font>.\n",
    " \n",
    "Você recebeu dados de fonemas e sílabas em português, construídos na forma de dicionários para facilitar a busca e a utilização.\n",
    "\n",
    "Certifique-se que os caminhos dos arquivos inseridos no dicionário refletem a disposição de arquivos na sua máquina, e que as palavras usadas estão no seu vocabulário de palavras.\n",
    "\n",
    "Além disso você recebeu um arquivo .txt de texto contendo diversar frases.\n",
    "\n",
    "**Faça um sintetizador de voz rundimentar que concatena os fonemas para reproduzir as frases recebidas.**\n",
    "\n",
    "Esse tipo de sistema é chamado de TTS (Text to Speech). "
   ]
  },
  {
   "cell_type": "code",
   "execution_count": null,
   "metadata": {},
   "outputs": [],
   "source": [
    "!pip install librosa\n",
    "import librosa\n",
    "!pip install soundfile\n",
    "import soundfile as sf\n",
    "!pip install numpy\n",
    "import numpy as np"
   ]
  },
  {
   "cell_type": "code",
   "execution_count": null,
   "metadata": {},
   "outputs": [],
   "source": [
    "# Este é o dicionário de fonemas que mapeia cada fonema para um arquivo de áudio\n",
    "dicionario_fonemas={\n",
    "    'ah':'dados_cp1/fonemas/phoneme_ah.wav',\n",
    "    'oh':'dados_cp1/fonemas/phoneme_oh.wav',\n",
    "    'ca':'dados_cp1/fonemas/phoneme_ca.wav',\n",
    "    'co':'dados_cp1/fonemas/phoneme_co.wav',\n",
    "    'de':'dados_cp1/fonemas/phoneme_de.wav',\n",
    "    'do':'dados_cp1/fonemas/phoneme_do.wav',\n",
    "    'em':'dados_cp1/fonemas/phoneme_em.wav',\n",
    "    'eu':'dados_cp1/fonemas/phoneme_eu.wav',\n",
    "    'ma':'dados_cp1/fonemas/phoneme_ma.wav',\n",
    "    'mo':'dados_cp1/fonemas/phoneme_mo.wav',\n",
    "    'pa':'dados_cp1/fonemas/phoneme_pa.wav',\n",
    "    'to':'dados_cp1/fonemas/phoneme_to.wav',\n",
    "    'um':'dados_cp1/fonemas/phoneme_um.wav',\n",
    "    'ra':'dados_cp1/fonemas/phoneme_ra.wav',\n",
    "    'ro':'dados_cp1/fonemas/phoneme_ro.wav',\n",
    "    'rah':'dados_cp1/fonemas/phoneme_rah.wav',\n",
    "    'meu':'dados_cp1/fonemas/phoneme_meu.wav',\n",
    "    'rao':'dados_cp1/fonemas/phoneme_rao.wav',\n",
    "    'rei':'dados_cp1/fonemas/phoneme_rei.wav',\n",
    "    'rou':'dados_cp1/fonemas/phoneme_rou.wav'\n",
    "}"
   ]
  },
  {
   "cell_type": "code",
   "execution_count": null,
   "metadata": {},
   "outputs": [],
   "source": [
    "# O dicionário de sílabas mapeia cada palavra para uma lista de fonemas\n",
    "dicionario_silabas = {\n",
    "    'o':['oh'],\n",
    "    'a':['ah'],\n",
    "    'do':['do'],\n",
    "    'de':['de'],\n",
    "    'rato':['rah','to'],\n",
    "    'rei':['rei'],\n",
    "    'roeu':['ro','eu'],\n",
    "    'roma':['ro','ma'],\n",
    "    'roupa':['rou','pa'],\n",
    "    'comeu':['co','meu'],\n",
    "    'coma':['co','ma'],\n",
    "    'meu':['meu'],\n",
    "    'mora':['mo','ra'],\n",
    "    'um':['um'],\n",
    "    'macarrão':['ma','ca','rao'],\n",
    "    'macaco':['ma','ca','co'],\n",
    "    'caro':['ca','ro'],\n",
    "    'maca':['ma','ca'],\n",
    "    'raro':['rah','ro'],\n",
    "    'dedo':['de','do'],\n",
    "    'em':['em']\n",
    "}"
   ]
  },
  {
   "cell_type": "code",
   "execution_count": null,
   "metadata": {},
   "outputs": [],
   "source": [
    "def sintetizador_voz(phrase, dicionario_silabas, dicionario_fonemas):\n",
    "    \n",
    "    audio_sintetizado=np.array([]) # Arquivo de audio que está sendo gerado\n",
    "    \n",
    "    words = phrase.split()\n",
    "\n",
    "    for word in words:\n",
    "        \n",
    "        # verifica se a palavra está no dicionário de sílabas\n",
    "        if word in dicionario_silabas:\n",
    "            syllables = dicionario_silabas[word]\n",
    "            \n",
    "            for syllable in syllables:\n",
    "                # verifica se a sílaba está no dicionário de fonemas\n",
    "                if syllable in dicionario_fonemas:\n",
    "                    audio_fonema, _ = sf.read(dicionario_fonemas[syllable])\n",
    "                    audio_sintetizado = np.concatenate((audio_sintetizado, audio_fonema))\n",
    "        \n",
    "        else:\n",
    "            print('Palavra não encontrada no dicionário de sílabas: ', word)\n",
    "    \n",
    "    return(audio_sintetizado)"
   ]
  },
  {
   "cell_type": "code",
   "execution_count": null,
   "metadata": {},
   "outputs": [],
   "source": [
    "with open('dados_cp1/frases_tts.txt', 'r', encoding='utf8') as phrases:\n",
    "    phrases = phrases.readlines()\n",
    "    \n",
    "phrases = [phrase.strip() for phrase in phrases]\n",
    "\n",
    "print(phrases)"
   ]
  },
  {
   "cell_type": "code",
   "execution_count": null,
   "metadata": {},
   "outputs": [],
   "source": [
    "for i, phrase in enumerate(phrases):\n",
    "    try:\n",
    "        # sintetizando a frase\n",
    "        audio = sintetizador_voz(phrase, dicionario_silabas, dicionario_fonemas)\n",
    "        # escrevendo o arquivo de áudio sintetizado\n",
    "        sf.write(f'frases_feitas/frase_{i+1}.wav', audio, samplerate=44100, format='wav')\n",
    "    except Exception as e:\n",
    "        print(f\"Erro ao escrever o arquivo da frase {i+1}: {e}\")"
   ]
  },
  {
   "cell_type": "markdown",
   "metadata": {},
   "source": [
    "----------------------------------------\n",
    "# Questão 2 - Análise Exploratória FIFA 2019\n",
    "\n",
    "Você está recebendo um arquivo .csv com dados do FIFA 2019. Você deve responder os itens a seguir sobre o dataset."
   ]
  },
  {
   "cell_type": "code",
   "execution_count": null,
   "metadata": {},
   "outputs": [],
   "source": [
    "!pip install pandas\n",
    "import pandas as pd\n",
    "!pip install seaborn\n",
    "import seaborn as sns\n",
    "!pip install matplotlib\n",
    "import matplotlib.pyplot as plt"
   ]
  },
  {
   "cell_type": "markdown",
   "metadata": {},
   "source": [
    "### a) Carregue os dados e filtre as linhas e colunas como visto em aula. <font color='red'>(1 ponto)</font>\n",
    "\n",
    "Queremos manter as colunas **Name**, **Age**, **Nationality**, **Club**, **Overall**, **Value**, **Wage** e **Position**. "
   ]
  },
  {
   "cell_type": "code",
   "execution_count": null,
   "metadata": {},
   "outputs": [],
   "source": [
    "df = pd.read_csv(\"dados_cp1/data_fifa2019.csv\")\n",
    "\n",
    "df = df[['Name', 'Age', 'Nationality', 'Club', 'Overall', 'Value', 'Wage', 'Position']]\n",
    "\n",
    "display(df)"
   ]
  },
  {
   "cell_type": "markdown",
   "metadata": {},
   "source": [
    "### b) Faça uma função para arrumar os valores da coluna Value e Wage dos jogadores. <font color='red'>(1 ponto)</font>\n",
    "\n",
    "A função deve converter o valor e salário (strings) para números reais (float)."
   ]
  },
  {
   "cell_type": "code",
   "execution_count": null,
   "metadata": {},
   "outputs": [],
   "source": [
    "convert_to_float = lambda x: float(x[1:-1]) * 1000 if 'K' in x else float(x[1:-1]) * 1000000 if 'M' in x else float(x[1:])\n",
    "\n",
    "df['Value'] = df['Value'].apply(convert_to_float)\n",
    "df['Wage'] = df['Wage'].apply(convert_to_float)\n",
    "\n",
    "display(df)"
   ]
  },
  {
   "cell_type": "markdown",
   "metadata": {},
   "source": [
    "### c) Usando a função overall_classes, crie uma coluna denominada 'Performance' com as classes de jogadores baseado no valor da coluna 'Overall'.  <font color='red'>(0.5 ponto)</font>"
   ]
  },
  {
   "cell_type": "code",
   "execution_count": null,
   "metadata": {},
   "outputs": [],
   "source": [
    "overall_classes = lambda x: 'Baixa' if x < 60 else ('Normal' if x < 75 else 'Alta')"
   ]
  },
  {
   "cell_type": "code",
   "execution_count": null,
   "metadata": {},
   "outputs": [],
   "source": [
    "df['Performance'] = df['Overall'].apply(overall_classes)\n",
    "\n",
    "display(df)"
   ]
  },
  {
   "cell_type": "markdown",
   "metadata": {},
   "source": [
    "### d) Faça quatro gráficos boxplot. <font color='red'>(1 ponto)</font>\n",
    "Da **idade (age)**, do **valor (value)**, do **salário (wage)** e do **overall** dos jogadores.\n",
    "\n",
    "Pinte cada gráfico boxplot com a coluna **Performance** realizada no item c (parâmetro hue).\n",
    "\n",
    "O que você pode interepretar desses gráficos? "
   ]
  },
  {
   "cell_type": "code",
   "execution_count": null,
   "metadata": {},
   "outputs": [],
   "source": [
    "# Criando a figura e subplots\n",
    "fig, axes = plt.subplots(nrows=2, ncols=2, figsize=(10, 8))\n",
    "\n",
    "# Plotando o boxplot da idade\n",
    "sns.boxplot(ax=axes[0, 0], x='Performance', y='Age', data=df)\n",
    "axes[0, 0].set_yscale('log')\n",
    "\n",
    "# Plotando o boxplot do valor\n",
    "sns.boxplot(ax=axes[0, 1], x='Performance', y='Value', data=df)\n",
    "axes[0, 1].set_yscale('log')\n",
    "\n",
    "# Plotando o boxplot do salário\n",
    "sns.boxplot(ax=axes[1, 0], x='Performance', y='Wage', data=df)\n",
    "axes[1, 0].set_yscale('log')\n",
    "\n",
    "# Plotando o boxplot do overall\n",
    "sns.boxplot(ax=axes[1, 1], x='Performance', y='Overall', data=df)\n",
    "axes[1, 1].set_yscale('log')\n",
    "\n",
    "plt.tight_layout()\n",
    "plt.show()"
   ]
  },
  {
   "cell_type": "markdown",
   "metadata": {},
   "source": [
    "Interpretação:\n",
    "\n",
    "Esses gráficos permitem visualizar como as variáveis numéricas (idade, valor, salário e overall) se distribuem por faixas de desempenho dos jogadores (baixo, normal e alto). Por exemplo, no gráfico do valor, é possível perceber que os jogadores com desempenho alto tendem a ter valores mais elevados do que os jogadores com desempenho normal e baixo. Já no gráfico do overall, é possível perceber que a maioria dos jogadores com desempenho alto têm notas acima de 80."
   ]
  },
  {
   "cell_type": "markdown",
   "metadata": {},
   "source": [
    "### e) Cálcule a média, desvio padrão e correlação das colunas numéricas e plot a dispersão e distribuição das colunas numéricas. <font color='red'>(1 ponto)</font>\n",
    "\n",
    "Dica: tudo pode ser resolvido com três linhas de código vistas no Jupyter Tópico 2."
   ]
  },
  {
   "cell_type": "code",
   "execution_count": null,
   "metadata": {
    "scrolled": false
   },
   "outputs": [],
   "source": [
    "# Selecionando apenas as colunas numéricas\n",
    "numeric_cols = df.select_dtypes(include='number')\n",
    "\n",
    "# Plotando a dispersão das colunas numéricas\n",
    "sns.pairplot(numeric_cols)\n",
    "\n",
    "# Plotando a distribuição das colunas numéricas\n",
    "for col in numeric_cols.columns:\n",
    "    sns.displot(numeric_cols[col], kde=True)\n",
    "\n",
    "# Mostrando os resultados\n",
    "print('Média das colunas:')\n",
    "print(numeric_cols.mean())\n",
    "print('\\nDesvio padrão das colunas:')\n",
    "print(numeric_cols.std())\n",
    "print('\\nCorrelação entre as colunas:')\n",
    "print(numeric_cols.corr())"
   ]
  },
  {
   "cell_type": "markdown",
   "metadata": {},
   "source": [
    "### f) Baseado nas colunas selecionadas e nas estatíticas você é capaz de propor uma estratégia de investimento em jogadores? <font color='red'>(1.5 pontos)</font>\n",
    "\n",
    "Dica: lembre-se que para investir você quer comprar um jogador barato (o que significa barato?) e de boa performance, que possa valorizar (para poder valorizar ele pode ser velho? quanto é velho para o futebol?) de forma a ser vendido por um valor maior no futuro. A posição é importante? A nacionalidade é importante? Existe alguma informação adicional que eliminamos no item (a) que poderia ser útil para criar essa estratégia?"
   ]
  },
  {
   "cell_type": "code",
   "execution_count": null,
   "metadata": {
    "scrolled": false
   },
   "outputs": [],
   "source": [
    "# Filtrar jogadores com overall acima de 80\n",
    "high_performers = df[df['Overall'] > 80]\n",
    "\n",
    "# Verificar a relação entre valor e overall\n",
    "plt.scatter(high_performers['Value'], high_performers['Overall'])\n",
    "plt.xlabel('Valor')\n",
    "plt.ylabel('Overall')\n",
    "plt.title('Relação entre Valor e Overall de Jogadores de Alto Desempenho')\n",
    "plt.show()\n",
    "\n",
    "# Filtrar jogadores com alto desempenho e valor abaixo da média\n",
    "high_value_performers = high_performers[high_performers['Value'] < high_performers['Value'].mean()]\n",
    "\n",
    "# Verificar a distribuição de idade dos jogadores\n",
    "plt.hist(high_value_performers['Age'])\n",
    "plt.xlabel('Idade')\n",
    "plt.ylabel('Frequência')\n",
    "plt.title('Distribuição de Idade de Jogadores de Alto Desempenho e Valor Abaixo da Média')\n",
    "plt.show()\n",
    "\n",
    "# Verificar a distribuição de posições dos jogadores\n",
    "position_counts = high_value_performers['Position'].value_counts()\n",
    "plt.bar(position_counts.index, position_counts.values)\n",
    "plt.xlabel('Posição')\n",
    "plt.ylabel('Número de Jogadores')\n",
    "plt.title('Distribuição de Posições de Jogadores de Alto Desempenho e Valor Abaixo da Média')\n",
    "plt.show()\n",
    "\n",
    "# Verificar a distribuição de nacionalidades dos jogadores\n",
    "nationality_counts = high_value_performers['Nationality'].value_counts().nlargest(10)\n",
    "plt.bar(nationality_counts.index, nationality_counts.values)\n",
    "plt.xlabel('Nacionalidade')\n",
    "plt.ylabel('Número de Jogadores')\n",
    "plt.title('Distribuição de Nacionalidades de Jogadores de Alto Desempenho e Valor Abaixo da Média')\n",
    "plt.show()"
   ]
  },
  {
   "cell_type": "markdown",
   "metadata": {},
   "source": [
    "Para a realização de uma estratégia eficiente, muitos fatores podem ser relevantes para a escolha dos jogadores. Levando isso em consideração, decidimos realizar análises adicionais para compor a estratégia.\n",
    "\n",
    "O primeiro gráfico apresenta a relação entre o valor e o overall dos jogadores com alto desempenho. Essa visualização pode ser útil para identificar jogadores com alto desempenho e valor abaixo da média, que podem ser considerados bons investimentos.\n",
    "\n",
    "O segundo gráfico mostra a distribuição de idade desses jogadores, o que pode ajudar a identificar jogadores jovens ou mais velhos que ainda assim possuem um alto potencial. Isso pode ajudar a identificar em quais faixas etárias os jogadores têm uma performance melhor e, consequentemente, uma maior valorização no mercado.\n",
    "\n",
    "Já o terceiro gráfico apresenta a distribuição de posições desses jogadores, o que pode ser útil na hora de identificar em quais posições há mais jogadores com desempenho alto. Isso pode indicar áreas em que há uma maior demanda de jogadores com bom desempenho, o que pode influenciar na valorização desses jogadores.\n",
    "\n",
    "Ademais, a nacionalidade pode ser um fator importante na hora de investir em jogadores, uma vez que algumas nacionalidades possuem grande presença e influência no mercado de futebol. Por exemplo, jogadores brasileiros, argentinos e europeus são bastante valorizados e possuem grande demanda no mercado."
   ]
  },
  {
   "cell_type": "markdown",
   "metadata": {},
   "source": [
    "Algumas informações adicionais que podem ser úteis para a tomada de decisão na hora de investir em jogadores são:\n",
    "\n",
    "- Valor da cláusula de liberação do jogador: indica o preço mínimo pelo qual ele pode ser vendido pelo seu clube. Isso pode ser uma indicação do valor de mercado do jogador e também da sua disponibilidade para transferência.\n",
    "\n",
    "- Reputação internacional do jogador: pode ser um indicador da sua qualidade e habilidade, bem como da sua capacidade de atrair interesse de outros clubes e aumentar seu valor de mercado."
   ]
  },
  {
   "cell_type": "markdown",
   "metadata": {},
   "source": [
    "## Análise\n",
    "\n",
    "Ao considerar investir em jogadores de futebol, há diversos fatores a serem levados em conta para maximizar as chances de sucesso. Em primeiro lugar, é fundamental avaliar o desempenho dos jogadores, pois aqueles com notas acima de 80 tendem a ser mais valorizados e, portanto, têm mais chances de se valorizar no futuro. Entretanto, é importante estar ciente de que o desempenho pode variar ao longo do tempo, o que torna necessário um acompanhamento constante dos jogadores nos quais se investiu, a fim de garantir que mantenham um bom desempenho.\n",
    "\n",
    "Outro fator importante é a idade dos jogadores, uma vez que os mais jovens têm um potencial de valorização maior do que os mais velhos. No entanto, jogadores experientes podem apresentar um desempenho mais consistente e, em algumas posições do campo, ser mais valiosos. Dessa forma, como regra geral, investir em jogadores com idade entre 20 e 30 anos pode ser uma estratégia acertada.\n",
    "\n",
    "No que diz respeito às posições, as mais valorizadas no futebol são aquelas ocupadas pelos atacantes, meias ofensivos e zagueiros. Assim, é indicado investir em jogadores dessas posições, embora jogadores em outras posições também possam apresentar um bom desempenho e serem uma alternativa a ser considerada.\n",
    "\n",
    "Além disso, a nacionalidade dos jogadores também pode afetar sua valorização, com jogadores de países com forte tradição no futebol, como Brasil, Argentina, Espanha e Alemanha, tendendo a ser mais valorizados. No entanto, é preciso ter em mente que jogadores de outros países também podem apresentar um bom desempenho e serem uma opção interessante para investimento.\n",
    "\n",
    "Por fim, é importante buscar jogadores que estejam subvalorizados em relação ao seu desempenho atual, incluindo aqueles que ainda não são muito conhecidos ou que estão jogando em ligas menos valorizadas. No entanto, é recomendado não investir todo o capital em um único jogador, a fim de diversificar os investimentos.\n",
    "\n",
    "Com todos esses fatores em mente, é possível desenvolver uma estratégia de investimento em jogadores de futebol que leve em conta diferentes aspectos, como desempenho, idade, posição, nacionalidade e preço de mercado. Contudo, é importante ter em mente que o mercado de futebol é bastante volátil e sujeito a mudanças repentinas, tornando fundamental estar sempre atento às últimas notícias e tendências do mercado."
   ]
  }
 ],
 "metadata": {
  "kernelspec": {
   "display_name": "Python 3 (ipykernel)",
   "language": "python",
   "name": "python3"
  },
  "language_info": {
   "codemirror_mode": {
    "name": "ipython",
    "version": 3
   },
   "file_extension": ".py",
   "mimetype": "text/x-python",
   "name": "python",
   "nbconvert_exporter": "python",
   "pygments_lexer": "ipython3",
   "version": "3.9.13"
  }
 },
 "nbformat": 4,
 "nbformat_minor": 2
}

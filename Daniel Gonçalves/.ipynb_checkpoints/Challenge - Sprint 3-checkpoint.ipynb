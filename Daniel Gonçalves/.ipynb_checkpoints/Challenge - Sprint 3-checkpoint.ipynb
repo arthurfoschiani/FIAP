{
 "cells": [
  {
   "cell_type": "code",
   "execution_count": null,
   "id": "eee06e55",
   "metadata": {
    "scrolled": false
   },
   "outputs": [],
   "source": [
    "!pip install yfinance;\n",
    "!pip install pandas;\n",
    "!pip install matplotlib;\n",
    "!pip install seaborn;\n",
    "!pip install yfinance;\n",
    "!pip install yahoofinancials;\n",
    "!pip install mplfinance;"
   ]
  },
  {
   "cell_type": "markdown",
   "id": "d52dfa52",
   "metadata": {},
   "source": [
    "## Importação das bibliotecas necessárias"
   ]
  },
  {
   "cell_type": "code",
   "execution_count": null,
   "id": "e2098348",
   "metadata": {},
   "outputs": [],
   "source": [
    "import pandas as pd\n",
    "import numpy as np\n",
    "import matplotlib.pyplot as plt\n",
    "import seaborn as sns\n",
    "import yfinance as yf\n",
    "import mplfinance as mpf"
   ]
  },
  {
   "cell_type": "markdown",
   "id": "d4e5d476",
   "metadata": {},
   "source": [
    "# Escolhas dos dados"
   ]
  },
  {
   "cell_type": "markdown",
   "id": "a2edba57",
   "metadata": {},
   "source": [
    "O grupo escolheu realizar a análise das ações NEOE3.SA e CEAB3.SA com o objetivo de compreender o processo de investimento em IPOs e avaliar o desempenho histórico de empresas que abriram capital na B3. Essa escolha é considerada relevante, visto que o investimento em IPOs é um tema de interesse para muitos investidores e compreender o desempenho de empresas que passaram por esse processo pode fornecer informações valiosas para avaliar seu potencial de crescimento futuro.\n",
    "\n",
    "Para realizar essa análise, foram considerados dados referentes ao preço das ações ao longo do tempo e informações sobre os volumes diários de vendas. Ademais, fatores externos que possam ter afetado o desempenho das empresas também foram levados em consideração, como a situação econômica do país e mundial.\n",
    "\n",
    "Os resultados obtidos a partir desta análise podem ser úteis para outros investidores que desejem investir em empresas recém-emitidas, bem como para avaliar empresas em outros setores e tomar decisões de investimento mais informadas. Em suma, a escolha das ações NEOE3.SA e CEAB3.SA para este estudo foi considerada apropriada para atender aos objetivos do projeto e fornecer informações valiosas para investidores interessados em investimentos em IPOs."
   ]
  },
  {
   "cell_type": "markdown",
   "id": "b784594e",
   "metadata": {},
   "source": [
    "## Recuperando as cotações de ações"
   ]
  },
  {
   "cell_type": "code",
   "execution_count": null,
   "id": "d97f3873",
   "metadata": {},
   "outputs": [],
   "source": [
    "tickers = [\"NEOE3.SA\", \"CEAB3.SA\"]\n",
    "start_date = '2020-01-01'\n",
    "end_date = '2022-03-16'\n",
    "dataNEO = yf.download(tickers[0], start=start_date, end=end_date, interval='1wk')\n",
    "dataNEO = dataNEO[['Adj Close', 'Volume']]\n",
    "dataCEA = yf.download(tickers[1], start=start_date, end=end_date, interval='1wk')\n",
    "dataCEA = dataCEA[['Adj Close', 'Volume']]"
   ]
  },
  {
   "cell_type": "markdown",
   "id": "ee7e1d7f",
   "metadata": {},
   "source": [
    "## Visualizar as primeiras linhas dos dataframes"
   ]
  },
  {
   "cell_type": "code",
   "execution_count": null,
   "id": "b52ee2ae",
   "metadata": {},
   "outputs": [],
   "source": [
    "display(dataNEO.head())\n",
    "display(dataCEA.head())"
   ]
  },
  {
   "cell_type": "markdown",
   "id": "e19d7357",
   "metadata": {},
   "source": [
    "## Visualizar as últimas linhas dos dataframes"
   ]
  },
  {
   "cell_type": "code",
   "execution_count": null,
   "id": "3cea1237",
   "metadata": {},
   "outputs": [],
   "source": [
    "display(dataNEO.tail())\n",
    "display(dataCEA.tail())"
   ]
  },
  {
   "cell_type": "markdown",
   "id": "d1d47f04",
   "metadata": {},
   "source": [
    "## Verificar as informações do dataframe"
   ]
  },
  {
   "cell_type": "code",
   "execution_count": null,
   "id": "59362cb1",
   "metadata": {},
   "outputs": [],
   "source": [
    "dataNEO.info()\n",
    "print(\"=====================================================================\")\n",
    "dataCEA.info()"
   ]
  },
  {
   "cell_type": "markdown",
   "id": "d2915761",
   "metadata": {},
   "source": [
    "## Verificar a estatística descritiva do dataframe"
   ]
  },
  {
   "cell_type": "code",
   "execution_count": null,
   "id": "5263c3aa",
   "metadata": {
    "scrolled": false
   },
   "outputs": [],
   "source": [
    "display(dataNEO.describe())\n",
    "display(dataCEA.describe())"
   ]
  },
  {
   "cell_type": "markdown",
   "id": "9d37668a",
   "metadata": {},
   "source": [
    "## Visualizar o preço de fechamento dos ativos ao longo do tempo"
   ]
  },
  {
   "cell_type": "markdown",
   "id": "b6b75aab",
   "metadata": {},
   "source": [
    "Este gráfico mostra os preços de fechamento ajustados para cada ação no período de 01/01/2020 a 16/03/2022. "
   ]
  },
  {
   "cell_type": "code",
   "execution_count": null,
   "id": "7eff5ccb",
   "metadata": {},
   "outputs": [],
   "source": [
    "plt.figure(figsize=(12,6))\n",
    "plt.plot(dataNEO['Adj Close'], label='NEO')\n",
    "plt.plot(dataCEA['Adj Close'], label='CEA')\n",
    "plt.title('Preços de fechamento ajustados')\n",
    "plt.xlabel('Data')\n",
    "plt.ylabel('Preço')\n",
    "plt.legend()\n",
    "plt.grid()\n",
    "plt.show()"
   ]
  },
  {
   "cell_type": "markdown",
   "id": "f3359e86",
   "metadata": {},
   "source": [
    "Pode-se observar que as ações da empresa NEOE3.SA apresentaram uma trajetória de crescimento durante o período em análise, iniciando em torno de R 22,00 e atingindo seu pico em fevereiro de 2020 próximo a R 25,00. Entretanto, com a pandemia de COVID-19, houve uma queda abrupta para cerca de R 15,00 em março do mesmo ano. Por sua vez, as ações da empresa CEAB3.SA também iniciaram o período com um valor de aproximadamente R 18,00, apresentando uma tendência de alta até ser impactada pela crise mundial de 2020. Não obstante, a empresa teve diversos picos e conseguiu se recuperar, alcançando valores próximos a R$15,00.\n",
    "\n",
    "De maneira geral, ambas as empresas apresentaram flutuações em seus preços e uma tendência de queda e crescimento conjuntos, mesmo atuando em setores distintos."
   ]
  },
  {
   "cell_type": "markdown",
   "id": "654c6cec",
   "metadata": {},
   "source": [
    "## Visualizar o fechamento do preço de cada ação junto com a média, mediada e desvio padrão"
   ]
  },
  {
   "cell_type": "markdown",
   "id": "172f01d8",
   "metadata": {},
   "source": [
    "#### NEO"
   ]
  },
  {
   "cell_type": "code",
   "execution_count": null,
   "id": "811ce0dc",
   "metadata": {},
   "outputs": [],
   "source": [
    "meanNEO = dataNEO['Adj Close'].mean()\n",
    "medianNEO = dataNEO['Adj Close'].median()\n",
    "stdNEO = dataNEO['Adj Close'].std()\n",
    "\n",
    "print('NEO')\n",
    "print('Média: {:.2f}'.format(meanNEO))\n",
    "print('Mediana: {:.2f}'.format(medianNEO))\n",
    "print('Desvio padrão: {:.2f}'.format(stdNEO))"
   ]
  },
  {
   "cell_type": "markdown",
   "id": "a78c2568",
   "metadata": {},
   "source": [
    "#### CEA"
   ]
  },
  {
   "cell_type": "code",
   "execution_count": null,
   "id": "728e8e76",
   "metadata": {},
   "outputs": [],
   "source": [
    "meanCEA = dataCEA['Adj Close'].mean()\n",
    "medianCEA = dataCEA['Adj Close'].median()\n",
    "stdCEA = dataCEA['Adj Close'].std()\n",
    "\n",
    "print('CEA')\n",
    "print('Média: {:.2f}'.format(meanCEA))\n",
    "print('Mediana: {:.2f}'.format(medianCEA))\n",
    "print('Desvio padrão: {:.2f}'.format(stdCEA))"
   ]
  },
  {
   "cell_type": "code",
   "execution_count": null,
   "id": "42115271",
   "metadata": {},
   "outputs": [],
   "source": [
    "fig, (ax1, ax2) = plt.subplots(nrows=2, ncols=1, figsize=(10, 8), sharex=True)\n",
    "\n",
    "sns.lineplot(data=dataNEO, x=dataNEO.index, y='Adj Close', ax=ax1, label='NEO')\n",
    "ax1.axhline(meanNEO, color='g', linestyle='--', label='Média')\n",
    "ax1.axhline(medianNEO, color='r', linestyle='--', label='Mediada')\n",
    "ax1.fill_between(dataNEO.index, meanNEO-stdNEO, meanNEO+stdNEO, alpha=0.3, color='g', label='Std')\n",
    "ax1.legend(loc='upper left')\n",
    "ax1.set_title('NEO')\n",
    "\n",
    "sns.lineplot(data=dataCEA, x=dataCEA.index, y='Adj Close', ax=ax2, label='CEA')\n",
    "ax2.axhline(meanCEA, color='g', linestyle='--', label='Média')\n",
    "ax2.axhline(medianCEA, color='r', linestyle='--', label='Mediada')\n",
    "ax2.fill_between(dataCEA.index, meanCEA-stdCEA, meanCEA+stdCEA, alpha=0.3, color='g', label='Std')\n",
    "ax2.legend(loc='upper left')\n",
    "ax2.set_title('CEA')\n",
    "\n",
    "plt.xlabel('Data')\n",
    "plt.ylabel('Preço fechamento')\n",
    "plt.show()\n"
   ]
  },
  {
   "cell_type": "markdown",
   "id": "3fe24550",
   "metadata": {},
   "source": [
    "A análise das médias, medianas e desvios padrão das ações NEOE3.SA e CEAB3.SA pode fornecer informações valiosas para entender o desempenho histórico dessas empresas após a abertura de capital. As médias e medianas podem indicar o valor central dos preços das ações, enquanto o desvio padrão indica a dispersão em torno desse valor central.\n",
    "\n",
    "Ao comparar as médias, medianas e desvios padrão das ações NEOE3.SA e CEAB3.SA com outras ações do mesmo setor ou com o índice Bovespa, por exemplo, é possível avaliar o desempenho relativo dessas empresas em relação ao mercado. Se a média das ações NEOE3.SA e CEAB3.SA estiver acima da média do setor ou do índice, pode indicar que essas empresas tiveram um bom desempenho em relação ao mercado.\n",
    "\n",
    "Por outro lado, se o desvio padrão das ações NEOE3.SA e CEAB3.SA for maior do que o desvio padrão do setor ou do índice, pode indicar maior volatilidade dessas empresas em relação ao mercado. Isso pode ser um fator a ser considerado pelos investidores ao avaliar o risco envolvido em investir nessas empresas.\n",
    "\n",
    "Em resumo, a análise das médias, medianas e desvios padrão das ações NEOE3.SA e CEAB3.SA pode fornecer informações valiosas para avaliar o desempenho dessas empresas após a abertura de capital e compará-las com outras empresas do setor ou com o mercado em geral.\n",
    "\n",
    "Através do gráfico, é possível identificar a tendência dos preços de cada ação e comparar sua volatilidade. É interessante mostrar esse gráfico porque ele permite uma análise visual da evolução dos preços das ações, facilitando a identificação de padrões e tendências, o que pode auxiliar na tomada de decisão de investimento."
   ]
  },
  {
   "cell_type": "markdown",
   "id": "86abb04a",
   "metadata": {},
   "source": [
    "## Volume de negociação"
   ]
  },
  {
   "cell_type": "markdown",
   "id": "96b85c90",
   "metadata": {},
   "source": [
    "Este gráfico mostra o volume de negociação das ações dos dois tickers no mesmo período. "
   ]
  },
  {
   "cell_type": "code",
   "execution_count": null,
   "id": "09c029ce",
   "metadata": {
    "scrolled": false
   },
   "outputs": [],
   "source": [
    "plt.figure(figsize=(12,6))\n",
    "plt.plot(dataNEO['Volume'], label='NEO', linestyle='--', marker='o', color='blue')\n",
    "plt.plot(dataCEA['Volume'], label='CEA', linestyle='--', marker='o', color='red')\n",
    "plt.title('Volume de negociação')\n",
    "plt.xlabel('Data')\n",
    "plt.ylabel('Volume')\n",
    "plt.legend()\n",
    "plt.grid()\n",
    "plt.show()"
   ]
  },
  {
   "cell_type": "markdown",
   "id": "ef8e8d24",
   "metadata": {},
   "source": [
    "É possível observar que a ação \"NEOE3.SA\" apresenta um nível de volatilidade significativamente mais elevado em termos de volume de negociação, evidenciado por um pico ocorrido em abril de 2020, subsequente declínio e nova ascensão em maio do mesmo ano. Por outro lado, a ação \"CEAB3.SA\" registrou uma tendência de queda no período inicial de sua abertura de capital, culminando em um pico em abril de 2021, seguido de um declínio em fevereiro do mesmo ano e, posteriormente, uma nova elevação em agosto de 2021. \n",
    "\n",
    "É possível afirmar, portanto, que o volume de negociação dessas duas ações apresenta um comportamento variado e notavelmente volátil."
   ]
  },
  {
   "cell_type": "markdown",
   "id": "722aa511",
   "metadata": {},
   "source": [
    "## Visualizar o retorno diário dos ativos"
   ]
  },
  {
   "cell_type": "code",
   "execution_count": null,
   "id": "f17617a2",
   "metadata": {},
   "outputs": [],
   "source": [
    "returnsNEO = dataNEO['Adj Close'].pct_change()\n",
    "returnsCEA = dataCEA['Adj Close'].pct_change()\n",
    "\n",
    "plt.figure(figsize=(12,6))\n",
    "plt.plot(returnsNEO, label='NEO')\n",
    "plt.plot(returnsCEA, label='CEA')\n",
    "plt.title('Retornos diários')\n",
    "plt.xlabel('Data')\n",
    "plt.ylabel('Retorno')\n",
    "plt.legend()\n",
    "plt.grid()\n",
    "plt.show()"
   ]
  },
  {
   "cell_type": "markdown",
   "id": "39b02c90",
   "metadata": {},
   "source": [
    "Analisando as informações apresentadas no gráfico, pode-se observar o comportamento dos retornos diários das ações \"NEO\" e \"CEA\". A visualização do gráfico evidencia que ambas as ações apresentaram períodos de alta e baixa volatilidade nos retornos diários ao longo do tempo.\n",
    "\n",
    "Com relação à ação \"CEA\", pode-se observar que os retornos diários apresentaram um comportamento volátil, com variações significativas de valor ao longo do tempo. Em contrapartida, a ação \"NEO\" apresentou uma volatilidade menor nos retornos diários, quando comparada à ação \"CEA\".\n",
    "\n",
    "É possível notar que, em alguns períodos de tempo, as duas ações apresentaram comportamentos semelhantes, com movimentos de alta ou baixa simultâneos. Entretanto, em outros períodos, as ações apresentaram comportamentos opostos, com uma ação apresentando ganhos enquanto a outra apresentava perdas.\n",
    "\n",
    "Diante disso, a análise dos dados apresentados no gráfico possibilita a obtenção de insights acerca do comportamento do mercado em relação a abertura destes IPOs, permitindo assim a tomada de decisões mais embasadas e assertivas no contexto do investimento em bolsa de valores."
   ]
  },
  {
   "cell_type": "markdown",
   "id": "6329633d",
   "metadata": {},
   "source": [
    "## Visualizar a correlação entre os ativos"
   ]
  },
  {
   "cell_type": "code",
   "execution_count": null,
   "id": "cf717a58",
   "metadata": {},
   "outputs": [],
   "source": [
    "corr = pd.concat([returnsNEO, returnsCEA], axis=1).corr()\n",
    "\n",
    "sns.heatmap(corr, cmap='coolwarm', annot=True, vmin=-1, vmax=1)\n",
    "plt.title('Correlação entre ações')\n",
    "plt.show()"
   ]
  },
  {
   "cell_type": "markdown",
   "id": "a51484ac",
   "metadata": {},
   "source": [
    "O gráfico apresentado é uma matriz de correlação que indica a relação entre os retornos diários das ações \"NEO\" e \"CEA\". Através da visualização do heatmap, é possível identificar a intensidade e a direção da correlação entre essas variáveis.\n",
    "\n",
    "A intensidade da correlação é representada pelas cores, onde tonalidades em vermelho indicam correlação positiva forte e tonalidades em azul indicam correlação negativa forte. Já a direção da correlação é indicada pelo sinal do valor da correlação, podendo variar entre -1 e 1.\n",
    "\n",
    "O valor da correlação próximo a 1 indica uma forte correlação positiva, ou seja, as ações apresentam variações de retorno diário similares e ocorrem movimentos conjuntos no mercado. Por outro lado, valores próximos a -1 indicam uma forte correlação negativa, ou seja, as ações apresentam variações opostas nos retornos diários e ocorrem movimentos opostos no mercado.\n",
    "\n",
    "Ao observar o heatmap, é possível perceber que as ações \"NEO\" e \"CEA\" apresentaram uma correlação positiva moderada ao longo do tempo, com valores de correlação próximos a 0,45. Isso indica que, em geral, as ações apresentam movimentos conjuntos no mercado, porém não necessariamente de forma muito intensa.\n",
    "\n",
    "A análise da matriz de correlação é importante para a construção de um portfólio de investimentos diversificado, com a inclusão de ações que apresentem baixa correlação entre si, reduzindo assim o risco de perdas significativas em um cenário de queda no mercado."
   ]
  },
  {
   "cell_type": "markdown",
   "id": "510f8a6a",
   "metadata": {},
   "source": [
    "## Médias móveis de 30 dias"
   ]
  },
  {
   "cell_type": "code",
   "execution_count": null,
   "id": "0628a332",
   "metadata": {},
   "outputs": [],
   "source": [
    "plt.figure(figsize=(12,6))\n",
    "dataNEO['30d'] = dataNEO['Adj Close'].rolling(window=30).mean()\n",
    "dataCEA['30d'] = dataCEA['Adj Close'].rolling(window=30).mean()\n",
    "\n",
    "plt.plot(dataNEO['Adj Close'], label='NEO')\n",
    "plt.plot(dataCEA['Adj Close'], label='CEA')\n",
    "plt.plot(dataNEO['30d'], label='Média móvel de 30 dias NEO')\n",
    "plt.plot(dataCEA['30d'], label='Média móvel de 30 dias CEA')\n",
    "plt.title('Médias móveis de 30 dias')\n",
    "plt.xlabel('Data')\n",
    "plt.ylabel('Preço')\n",
    "plt.legend()\n",
    "plt.grid()\n",
    "plt.show()"
   ]
  },
  {
   "cell_type": "markdown",
   "id": "56cca92e",
   "metadata": {},
   "source": [
    "O gráfico apresentado mostra as médias móveis de 30 dias das ações \"NEO\" e \"CEA\", bem como os seus preços de fechamento ao longo do tempo. A média móvel é uma ferramenta de análise técnica que suaviza a flutuação dos preços ao longo do tempo, fornecendo uma visão mais clara da tendência de preços das ações.\n",
    "\n",
    "Ao observar o gráfico, é possível notar que a ação \"NEO\" apresentou uma tendência de alta em seu preço de fechamento ao longo do tempo, que se mantém acima da sua média móvel de 30 dias. Já a ação \"CEA\" apresentou uma tendência de baixa, com o preço de fechamento abaixo da média móvel de 30 dias.\n",
    "\n",
    "Essas informações são importantes para auxiliar na tomada de decisões de investimento, pois indicam que a ação \"NEO\" apresentou um desempenho positivo em relação à média móvel de 30 dias, enquanto a ação \"CEA\" apresentou um desempenho negativo em relação à média móvel de 30 dias.\n",
    "\n",
    "Além disso, a análise das médias móveis também pode auxiliar na identificação de pontos de entrada ou saída no mercado de ações. Por exemplo, em um cenário em que o preço de uma ação está abaixo da sua média móvel de 30 dias, pode ser uma oportunidade de compra, enquanto um preço acima da média móvel pode indicar um momento para realizar lucros ou vender ações."
   ]
  },
  {
   "cell_type": "markdown",
   "id": "463db955",
   "metadata": {},
   "source": [
    "## Visualizar disperção"
   ]
  },
  {
   "cell_type": "code",
   "execution_count": null,
   "id": "74765671",
   "metadata": {},
   "outputs": [],
   "source": [
    "returnsNEO = dataNEO['Adj Close'].pct_change()\n",
    "returnsCEA = dataCEA['Adj Close'].pct_change()\n",
    "\n",
    "plt.figure(figsize=(8,8))\n",
    "plt.scatter(returnsNEO, returnsCEA, label='NEO vs CEA')\n",
    "plt.legend(loc='upper left')\n",
    "plt.title('Retornos Diários das Ações')\n",
    "plt.xlabel('NEO')\n",
    "plt.ylabel('CEA')\n",
    "plt.grid()\n",
    "plt.show()"
   ]
  },
  {
   "cell_type": "markdown",
   "id": "9449e0a5",
   "metadata": {},
   "source": [
    "Essa visualização é um gráfico de dispersão dos retornos diários das ações \"NEO\" e \"CEA\". Cada ponto no gráfico representa um par de retornos diários para as duas ações.\n",
    "\n",
    "Podemos analisar a relação entre os retornos das duas ações a partir do gráfico de dispersão. Se os pontos estiverem concentrados em torno de uma linha diagonal ascendente, isso sugere que as duas ações estão altamente correlacionadas e seus retornos diários são fortemente influenciados pelos mesmos fatores de mercado. Por outro lado, se os pontos estiverem mais dispersos e não seguirem uma linha clara, isso sugere que as ações são menos correlacionadas e seus retornos diários são influenciados por fatores de mercado diferentes.\n",
    "\n",
    "Nesse caso, podemos observar que os pontos não estão muito concentrados em torno de uma linha diagonal ascendente, o que sugere que as ações não estão altamente correlacionadas. Isso é confirmado pela matriz de correlação que foi calculada anteriormente. Podemos ver que a correlação entre as duas ações é de apenas 0,24, o que indica uma correlação fraca.\n",
    "\n",
    "Podemos também notar que existem alguns pontos fora do agrupamento principal, que podem indicar eventos incomuns ou discrepantes que afetaram o desempenho de uma das ações em particular."
   ]
  }
 ],
 "metadata": {
  "kernelspec": {
   "display_name": "Python 3 (ipykernel)",
   "language": "python",
   "name": "python3"
  },
  "language_info": {
   "codemirror_mode": {
    "name": "ipython",
    "version": 3
   },
   "file_extension": ".py",
   "mimetype": "text/x-python",
   "name": "python",
   "nbconvert_exporter": "python",
   "pygments_lexer": "ipython3",
   "version": "3.9.13"
  }
 },
 "nbformat": 4,
 "nbformat_minor": 5
}
